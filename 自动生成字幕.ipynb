{
 "cells": [
  {
   "cell_type": "markdown",
   "metadata": {},
   "source": [
    "# 自动生成字幕"
   ]
  },
  {
   "cell_type": "markdown",
   "metadata": {},
   "source": [
    "工作内容：\n",
    "- 从视频文件自动生成外挂型字幕文件，不进行视频编辑等操作\n",
    "- 包括，时间轴\n",
    "\n",
    "\n",
    "主要工作：\n",
    "- 获取视频文件中的音频文件\n",
    "- 将音频文件分段\n",
    "- 采用IBM CLOUD进行语音转文字，每月500分钟免费\n",
    "- 自动构建B站字幕\n",
    "\n",
    "后续工作：\n",
    "- 采用 翻译API，自动进行初步翻译\n",
    "    - google: googletrans包，因为墙pass\n",
    "    - youdao: 翻译 api"
   ]
  },
  {
   "cell_type": "markdown",
   "metadata": {},
   "source": [
    "## B站字幕文件 .bcc 格式"
   ]
  },
  {
   "cell_type": "code",
   "execution_count": 2,
   "metadata": {},
   "outputs": [
    {
     "data": {
      "text/plain": [
       "{'font_size': 0.4,\n",
       " 'font_color': '#FFFFFF',\n",
       " 'background_alpha': 0.5,\n",
       " 'background_color': '#9C27B0',\n",
       " 'Stroke': 'none',\n",
       " 'body': [{'from': 13,\n",
       "   'to': 14.95,\n",
       "   'location': 2,\n",
       "   'content': 'Hi I`m Larry Bill'},\n",
       "  {'from': 14.95,\n",
       "   'to': 18.825,\n",
       "   'location': 2,\n",
       "   'content': 'I`m chair guitar department Berklee College of Music'},\n",
       "  {'from': 20.342341,\n",
       "   'to': 25.342341,\n",
       "   'location': 2,\n",
       "   'content': \"and it's my pleasure to \"}]}"
      ]
     },
     "execution_count": 2,
     "metadata": {},
     "output_type": "execute_result"
    }
   ],
   "source": [
    "# 示例\n",
    "{\n",
    "    \"font_size\":0.4, # 字体大小\n",
    "    \"font_color\":\"#FFFFFF\", # 字体颜色\n",
    "    \"background_alpha\":0.5, # 背景透明度 \n",
    "    \"background_color\":\"#9C27B0\", # 背景颜色\n",
    "    \"Stroke\":\"none\", # \n",
    "    \"body\":[ # 主体\n",
    "        {\n",
    "            \"from\":13, # 起始处\n",
    "            \"to\":14.95, # 结束处\n",
    "            \"location\":2, # \n",
    "            \"content\":\"Hi I`m Larry Bill\" # 主体\n",
    "        },\n",
    "        {\"from\":14.95,\"to\":18.825,\"location\":2,\"content\":\"I`m chair guitar department Berklee College of Music\"},\n",
    "        {\"from\":20.342341,\"to\":25.342341,\"location\":2,\"content\":\"and it's my pleasure to work with you to \"}\n",
    "    ]\n",
    "}"
   ]
  },
  {
   "cell_type": "markdown",
   "metadata": {},
   "source": [
    "## 获取视频转音频"
   ]
  },
  {
   "cell_type": "code",
   "execution_count": 15,
   "metadata": {},
   "outputs": [],
   "source": [
    "import moviepy.editor as mve"
   ]
  },
  {
   "cell_type": "code",
   "execution_count": 27,
   "metadata": {},
   "outputs": [
    {
     "data": {
      "text/plain": [
       "'D:\\\\Music\\\\电吉他\\\\Berklee - Modern Method for Guitar - Vol1 (DVD)\\\\video\\\\Lesson 1\\\\001.mov'"
      ]
     },
     "execution_count": 27,
     "metadata": {},
     "output_type": "execute_result"
    }
   ],
   "source": [
    "path = r'D:\\Music\\电吉他\\Berklee - Modern Method for Guitar - Vol1 (DVD)\\video\\Lesson 1'\n",
    "\n",
    "file = '001.mov'\n",
    "\n",
    "filepath = path + \"\\\\\" + file\n",
    "\n",
    "filepath"
   ]
  },
  {
   "cell_type": "code",
   "execution_count": 21,
   "metadata": {},
   "outputs": [],
   "source": [
    "video = mve.VideoFileClip(filepath)\n",
    "audio = video.audio"
   ]
  },
  {
   "cell_type": "code",
   "execution_count": 22,
   "metadata": {},
   "outputs": [
    {
     "name": "stdout",
     "output_type": "stream",
     "text": [
      "MoviePy - Writing audio in test.mp3\n"
     ]
    },
    {
     "name": "stderr",
     "output_type": "stream",
     "text": [
      "                                                                                                                       \r"
     ]
    },
    {
     "name": "stdout",
     "output_type": "stream",
     "text": [
      "MoviePy - Done.\n"
     ]
    }
   ],
   "source": [
    "audio.write_audiofile('test.mp3')"
   ]
  },
  {
   "cell_type": "code",
   "execution_count": null,
   "metadata": {},
   "outputs": [],
   "source": [
    "audio.write_audiofile('test.mp3')"
   ]
  },
  {
   "cell_type": "code",
   "execution_count": null,
   "metadata": {},
   "outputs": [],
   "source": [
    "# import ffmpeg\n",
    "# autosub，使用的时google 和 ffmpeg"
   ]
  },
  {
   "cell_type": "markdown",
   "metadata": {},
   "source": [
    "## 音频转文字"
   ]
  },
  {
   "cell_type": "code",
   "execution_count": null,
   "metadata": {},
   "outputs": [],
   "source": [
    "# IBM Cloud Speech to text\n",
    "# API密钥：-ijVpcr8DbYekYCkOEtalbfH6uMO1rI0qJAz0mEbDvre\n",
    "# URL：https://api.us-south.speech-to-text.watson.cloud.ibm.com/instances/48476942-3322-4bba-aae3-18a2b84015d7"
   ]
  },
  {
   "cell_type": "code",
   "execution_count": null,
   "metadata": {},
   "outputs": [],
   "source": []
  },
  {
   "cell_type": "markdown",
   "metadata": {},
   "source": [
    "## 文字构成字幕"
   ]
  },
  {
   "cell_type": "code",
   "execution_count": null,
   "metadata": {},
   "outputs": [],
   "source": []
  },
  {
   "cell_type": "code",
   "execution_count": null,
   "metadata": {},
   "outputs": [],
   "source": []
  },
  {
   "cell_type": "code",
   "execution_count": null,
   "metadata": {},
   "outputs": [],
   "source": []
  },
  {
   "cell_type": "markdown",
   "metadata": {},
   "source": [
    "## 翻译"
   ]
  },
  {
   "cell_type": "code",
   "execution_count": 1,
   "metadata": {},
   "outputs": [],
   "source": [
    "# 工具包\n",
    "import requests\n",
    "import json"
   ]
  },
  {
   "cell_type": "code",
   "execution_count": 2,
   "metadata": {},
   "outputs": [],
   "source": [
    "# 有道翻译，调用有道翻译API(较不准，较快，稳定)\n",
    "def youdao_trans(text, t_type='AUTO'):\n",
    "    text = text.replace(' ', '%20')\n",
    "    url = 'http://fanyi.youdao.com/translate?&doctype=json&type='+t_type+'&i='+text\n",
    "#     print(url)\n",
    "    header = {}\n",
    "    out = requests.get(url)\n",
    "    out_json = out.json()\n",
    "#     print(out_json)\n",
    "    out_tgt = out_json['translateResult'][0][0]['tgt']\n",
    "#     print(out_tgt)\n",
    "    return out_tgt"
   ]
  },
  {
   "cell_type": "code",
   "execution_count": 25,
   "metadata": {},
   "outputs": [
    {
     "data": {
      "text/plain": [
       "'我的吉他在伯克利音乐学院'"
      ]
     },
     "execution_count": 25,
     "metadata": {},
     "output_type": "execute_result"
    }
   ],
   "source": [
    "# test\n",
    "youdao_trans(\"I'm chair of the guitar department here at Berklee college of music\")"
   ]
  },
  {
   "cell_type": "code",
   "execution_count": 6,
   "metadata": {},
   "outputs": [],
   "source": [
    "# 谷歌翻译_1，调用谷歌翻译（较准，较慢，超时）\n",
    "from googletrans import Translator\n",
    "translator = Translator(service_urls=['translate.google.cn'])\n",
    "\n",
    "def google_trans0(text, dest='zh-cn'):\n",
    "    try :\n",
    "        out = translator.translate(text, dest=dest).text\n",
    "        return out\n",
    "    except:\n",
    "        return '翻译异常'"
   ]
  },
  {
   "cell_type": "code",
   "execution_count": 26,
   "metadata": {},
   "outputs": [
    {
     "data": {
      "text/plain": [
       "'我是吉他系主任这里伯克利音乐学院'"
      ]
     },
     "execution_count": 26,
     "metadata": {},
     "output_type": "execute_result"
    }
   ],
   "source": [
    "# test\n",
    "google_trans0(\"I'm chair of the guitar department here at Berklee college of music\")"
   ]
  },
  {
   "cell_type": "code",
   "execution_count": 28,
   "metadata": {},
   "outputs": [],
   "source": [
    "text = \"After you're done with this book and actually while you're playing this book you will develop a sense of musicality you'll develop strength in your hands you'll develop a sense of time with the chords a sense of melody and you'll just get better as a guitarist and as a musician.\""
   ]
  },
  {
   "cell_type": "code",
   "execution_count": 29,
   "metadata": {},
   "outputs": [
    {
     "data": {
      "text/plain": [
       "'之后你完成这本书,当你玩这本书你将开发一种音乐性发展力量在你的手你会开发一个意义上的时间与和弦的旋律,你会得到更好的吉他手和一个音乐家。'"
      ]
     },
     "execution_count": 29,
     "metadata": {},
     "output_type": "execute_result"
    }
   ],
   "source": [
    "youdao_trans(text)"
   ]
  },
  {
   "cell_type": "code",
   "execution_count": null,
   "metadata": {},
   "outputs": [],
   "source": [
    "google_trans0(text)"
   ]
  },
  {
   "cell_type": "code",
   "execution_count": 8,
   "metadata": {},
   "outputs": [],
   "source": [
    "# 谷歌翻译_2，调用网页版（准）\n",
    "# 构建中，tk解密破解\n",
    "def google_trans(text, sl='auto', tl='zh_CN'):\n",
    "    text = text.replace(' ', '%20')\n",
    "    url = 'http://translate.google.cn/translate_a/single?client=t&dt=t&dj=1&ie=UTF-8&sl='+sl+'%tl='+tl+'&q='+text\n",
    "    print(url)\n",
    "    header = {}\n",
    "    out = requests.get(url)\n",
    "    out_json = out.json()\n",
    "    print(out_json)\n",
    "    out_tgt = out_json['translateResult'][0][0]['tgt']\n",
    "    print(out_tgt)\n",
    "    return out_tgt"
   ]
  },
  {
   "cell_type": "code",
   "execution_count": null,
   "metadata": {},
   "outputs": [],
   "source": [
    "# test\n",
    "# google_trans2('guitar department berklee college of music')"
   ]
  },
  {
   "cell_type": "code",
   "execution_count": null,
   "metadata": {},
   "outputs": [],
   "source": []
  }
 ],
 "metadata": {
  "kernelspec": {
   "display_name": "Python 3",
   "language": "python",
   "name": "python3"
  },
  "language_info": {
   "codemirror_mode": {
    "name": "ipython",
    "version": 3
   },
   "file_extension": ".py",
   "mimetype": "text/x-python",
   "name": "python",
   "nbconvert_exporter": "python",
   "pygments_lexer": "ipython3",
   "version": "3.7.4"
  }
 },
 "nbformat": 4,
 "nbformat_minor": 2
}
